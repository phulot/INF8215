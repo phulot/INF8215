{
 "cells": [
  {
   "cell_type": "markdown",
   "metadata": {
    "collapsed": true
   },
   "source": [
    "# Correction TP1"
   ]
  },
  {
   "cell_type": "code",
   "execution_count": 1,
   "metadata": {
    "collapsed": false
   },
   "outputs": [],
   "source": [
    "from A_star import main"
   ]
  },
  {
   "cell_type": "markdown",
   "metadata": {},
   "source": [
    "## Algorithme A* sans heuristique\n",
    "### La classe graphe\n",
    "La classe graphe est déjà fournie avec le TP, elle lit un fichier texte et l'interprête comme un graphe. Le graphe est représenté implicitement en utilisant une matrice de coût. Une liste d'arête est cependant gardée pour connaitre leur ordre et trouver plus rapidement un plus court chemin.\n",
    "\n",
    "Elle contient deux fonctions : une fonction qui renvoye une arête à partir de ses extrémités et une fonciton qui renvoye la liste triée des arêtes. La première fonction pourrait être remplacée par une fonction qui renvoie uniquement le coût de l'arête, puisque seule cette information est rajoutée. \n",
    "```python\n",
    "def get_cost(self,i,j):\n",
    "    return self.costs[i,j]\n",
    "```\n",
    "### La classe Solution\n",
    "Il fallait tout d'abord implémenter le constructeur de la classe. Ici une dijonction de cas etait proposée par test de type. Il fallait faire attention ici à bien copier la liste des villes visitées et non visitées. Il ne fallait cependant pas copier le graphe sous peine de perdre beaucoup de temps de calcul. En effet le graphe étant le même pour toutes les solutions, et n'étant pas modifié au cours de l'algorithme, une simple référence suffit. \n",
    "```python\n",
    "    def __init__(self, s=None):\n",
    "        if isinstance(s, Graph):\n",
    "            self.g = s\n",
    "            self.cost = 0\n",
    "            self.visited = []\n",
    "            self.not_visited = list(range(s.N))\n",
    "        elif isinstance(s, Solution):\n",
    "            self.g = s.g\n",
    "            self.cost = s.cost\n",
    "            self.visited = copy.deepcopy(s.visited)\n",
    "            self.not_visited = copy.deepcopy(s.not_visited)\n",
    "        else:\n",
    "            raise ValueError('you should give a graph or a solution')\n",
    "```"
   ]
  },
  {
   "cell_type": "markdown",
   "metadata": {},
   "source": [
    "Il fallait ensuite compléter la fonction qui rajoute une arête à la solution. Il n'y avait pas de difficutés particulière ici\n",
    "```python\n",
    "def add_edge(self, v, u):\n",
    "    self.cost += self.g.get_edge(v, u).cost\n",
    "    self.visited.append(u)\n",
    "    self.not_visited.remove(u)\n",
    "```\n",
    "La dernière fonction devait afficher la solution, plusieur affichages sont corrects, on peut par exemple prendre la fonction suivante :\n",
    "```python\n",
    "def print(self):\n",
    "    print('['+ str(0), end='')\n",
    "    for i in self.visited:\n",
    "        print(', '+str(i), end='')\n",
    "    print(']')\n",
    "    print('cost: ' + str(self.cost))\n",
    "```\n",
    "Pour ceux qui utilisent python 2.7 il fallait renommer cette fonction"
   ]
  },
  {
   "cell_type": "markdown",
   "metadata": {},
   "source": [
    "## La classe Node\n",
    "Cette classe implemente les noeuds de l'arbre de recherche. Chaque Noeud contient une solution ainsi qu'un coût actuel et garde en mémoire la dernière ville visitée. Il fallait d'abord l'initialiser :\n",
    "```python\n",
    "def __init__(self, v, sol, heuristic_cost=0):\n",
    "    self.v = v\n",
    "    self.solution = sol\n",
    "    self.heuristic_cost = heuristic_cost\n",
    "```\n",
    "Pas de difficulté particulière ici. Il ne faut juste pas oublier d'initialiser aussi le cout de l'heuristique afin de ne l'oublier par la suite. Il est d'ailleur par défaut égal à 0. "
   ]
  },
  {
   "cell_type": "markdown",
   "metadata": {},
   "source": [
    "On pouvait ensuite créer une fonction `cost` qui renvoie le cout du neoud : égal au coût heuristique + le coût de la solution\n",
    "```python\n",
    "def cost(self):\n",
    "    return self.solution.cost + self.heuristic_cost\n",
    "```\n",
    "Il était demandé ensuite d'implémenter la fonction `isN2betterThanN1(N1,N2)` qui compare deux noeuds. Une implémentation simple est la suivante : \n",
    "```python\n",
    "def isN2betterThanN1(N1, N2):\n",
    "    f1 = N1.solution.cost + N1.heuristic_cost\n",
    "    f2 = N2.solution.cost + N2.heuristic_cost\n",
    "    return f2 < f1\n",
    "```\n",
    "Une analyse plus poussée montre que on peut compléter la fonction en classant les noeud qui ont même coût par nombre de villes visitées décroissant. Cela donne:\n",
    "```python\n",
    "def isN2betterThanN1(N1, N2):\n",
    "    f1 = N1.solution.cost + N1.heuristic_cost\n",
    "    f2 = N2.solution.cost + N2.heuristic_cost\n",
    "    if (f2 < f1):\n",
    "        return True\n",
    "    elif f2 == f1:\n",
    "        if len(N2.solution.visited) < len(N1.solution.visited):\n",
    "            return True\n",
    "        elif (len(N2.solution.visited) == len(N1.solution.visited)) & (N2.solution.cost < N1.solution.cost):\n",
    "            return True\n",
    "        else:\n",
    "            return False\n",
    "    else:\n",
    "        return False\n",
    "```\n",
    "En python il fallait aussi surcharger l'opérateur *<* pour que la file de priorité puisse marcher:\n",
    "```python\n",
    "def __lt__(self, other):\n",
    "    return self.cost() < other.cost()\n",
    "```\n",
    "La fonction plus compliquée de cette partie était la fonction `explore_node(self, heap)` qui devait insérer dans `heap` tous les noeuds fils du noeud en cours. Il fallait faire attention à bien mettre à jour le noeud avant de l'insérer dans la file de priorité, qui suppose que ses éléments restent inchangés. Il fallait aussi s'assurer que le noeud retournant à la source n'etait créé qu'en dernier. Cela donne le code suivant:\n",
    "```python\n",
    "def explore_node(self, heap):\n",
    "    if len(self.solution.not_visited) == 1:\n",
    "        s = Solution(self.solution)\n",
    "        s.add_edge(self.v, SOURCE)\n",
    "        n = Node(SOURCE, s, heuristic_cost=0)\n",
    "        heap.put(n)\n",
    "        return\n",
    "    for u in self.solution.not_visited:\n",
    "        if u != SOURCE:\n",
    "            s = Solution(self.solution)\n",
    "            s.add_edge(self.v, u)\n",
    "            n = Node(u, s, heuristic_cost=0)\n",
    "            heap.put(n)\n",
    "```\n",
    "Il faudra modifier l'initialisation des noeuds qui ne terminent pas la solution pour utiliser l'heuristique. "
   ]
  },
  {
   "cell_type": "markdown",
   "metadata": {},
   "source": [
    "## Algorithme A*\n",
    "Il faut maintenant implémenter la fonction principale de l'algorithme A\\*. Cette fonction construit et explore la file de priorité tandis que `explore_node` la remplit. La première solution trouvée, par l'invariant de l'algorithme est la solution optimale. On rapelle que l'invariant de l'algorithme est que la solution partielle de cout minimal est toujours celle explorée. \n",
    "```python\n",
    "def main(graph):\n",
    "    g = Graph(graph)\n",
    "    root = Node(SOURCE, Solution(g))\n",
    "    heap = PriorityQueue()\n",
    "    root.explore_node(heap)\n",
    "    k = 0\n",
    "    while True:\n",
    "        node = heap.get()\n",
    "        k += 1\n",
    "        if node.v == SOURCE:\n",
    "            print('visited nodes ', k)\n",
    "            print('created nodes ', k+heap.qsize())\n",
    "            node.solution.print()\n",
    "            return\n",
    "        node.explore_node(heap)```\n",
    "### Execution"
   ]
  },
  {
   "cell_type": "code",
   "execution_count": 2,
   "metadata": {
    "collapsed": false
   },
   "outputs": [
    {
     "name": "stdout",
     "output_type": "stream",
     "text": [
      "running time 4.56 s\n",
      "visited nodes  41621\n",
      "created nodes  116619\n",
      "[0, 4, 6, 3, 5, 2, 9, 1, 8, 7, 0]\n",
      "cost: 135.0\n"
     ]
    }
   ],
   "source": [
    "main('N10.data','zero')"
   ]
  },
  {
   "cell_type": "code",
   "execution_count": 3,
   "metadata": {
    "collapsed": false
   },
   "outputs": [
    {
     "name": "stdout",
     "output_type": "stream",
     "text": [
      "running time 176.30 s\n",
      "visited nodes  1164095\n",
      "created nodes  4134560\n",
      "[0, 9, 2, 4, 10, 6, 8, 1, 3, 11, 7, 5, 0]\n",
      "cost: 1733.0\n"
     ]
    }
   ],
   "source": [
    "main('N12.data','zero')"
   ]
  },
  {
   "cell_type": "markdown",
   "metadata": {},
   "source": [
    "Plusieurs solutions sont réalisables, mais vous devriez tomber sur la solution ci dessus dans ce sens ou dans l'autre. Cet algorithme n'est pas assez efficace pour résoudre le cas N15\n",
    "## Heuristiques et MST\n",
    "L'introduction d'une heuristique permet d'améliorer grandement la vitesse de l'algorithme. Le rôle de l'heuristique est d'ecarter les branches les moins prometteuses, plus specifiquement, de prioriser celle qui le sont plus. Le respect de la certaines conditions d'admissibilité permet de garantir de trouver la meilleure solution. Si cette condition n'est plus respectée, alors il peut exister des cas l'algorithme ne donne pas la meilleure solution. **Le fait que l'algorithme donne la bonne solution sur un sous ensemble de cas ne constitue en aucun cas la preuve de la justesse de l'algorithme**. Seule des garanties mathématiques ou la justesse de l'algorithme sur tous les cas peuvent en constituer une preuve. \n",
    "\n",
    "L'heuristique utilisée cherche (dans cette application) à estimer le coût restant du parcours. Pour être admissible une telle heuristique doit toujours sous estimer cette distance. La perte de cette condition entraine la perte de la justesse de l'algorithme. \n",
    "\n",
    "Nous allons utiliser pour estimer cette distance le MST. Cette approche est particulièrement intéressant puisque l'on que, par l'inégalité triangulaire, le tour optimal a une longueur comprise entre la longueur du MST et 2\\* la longueur du MST. Ainsi le coût du MST constitue une bonne approximation au sous tour minimal. L'astuce ici consiste à calculer la l'arbre couvrant minimal qui contient la solution courante : cet arbre minimise la taille de tout tour contenant la solution courante. Pour le montrer il suffit de constater que si $S$ est une solution partielle, $A$ l'arbre convrant minimal contenant $S$ et $T$ le tour minimal contenant $S$. Alors si on enlève à $T$ n'importe quelle arête $e$ qui n'est pas dans $S$ alors $T-\\{e\\}$ est un arbre couvrant et par définition, son poids est supérieur ou égal à celui de $A$. Ainsi $Coût(A)<Coût(T)$ "
   ]
  },
  {
   "cell_type": "markdown",
   "metadata": {
    "collapsed": true
   },
   "source": [
    "### Mise en place de l'algorithme\n",
    "Il faut commencer par calculer le MST contenant la solution actuelle, pour cela il faut :\n",
    "1. remettre à zéro l'*UnionFind*\n",
    "2. parcourrir toutes les arêtes de la solution et les ajouter à l'*UnionFind*\n",
    "3. lancer l'algorithme de Kruskal sur les arêtes restantes\n",
    "\n",
    "L'Union find est un algorithme qui permet de trouver rapidement si deux sommet appartiennent à la même composante connexe. Il est initialisé en mettant chaque sommet dans un cluster. A chaque fois qu'une arête est insérée dans la structure, il fusionne les deux clusters des deux sommets de l'arête. Chaque cluster correspond ainsi à une composante connexe de la forêt d'arbres. Pour tester si deux sommets sont dans la même composante connexe il suffit de regarder à quel cluster ils appartiennent. \n",
    "Cette structure est particulièrement adaptée à l'algorithme de Kruskal, car il permet de compléter l'arbre en testant pour chaque arête si elle fait un cycle (sommets dans la même composante connexe). \n",
    "L'algorithme de Kruskal se présente donc ainsi :\n",
    "```python\n",
    "def getMSTCost(self, sol, source):\n",
    "    mst_cost = 0\n",
    "    self.uf.reset()\n",
    "    u = source\n",
    "    n_edges = 0\n",
    "    for e in sol.visited:\n",
    "        self.uf.add(self.g.get_edge(e, u))\n",
    "        u = e\n",
    "        n_edges += 1\n",
    "\n",
    "    for e in self.g.get_sorted_edges():\n",
    "        if n_edges == self.g.N - 1:\n",
    "            return mst_cost\n",
    "        elif not self.uf.makes_cycle(e):\n",
    "            mst_cost += e.cost\n",
    "            self.uf.add(e)\n",
    "            n_edges += 1\n",
    "\n",
    "    return mst_cost\n",
    "```\n",
    "Quelques points délicats : \n",
    "- ne pas oublier de remettre à zero l'*UnionFind*\n",
    "- ne pas oublier la source\n",
    "- pour la condition de fin, il suffit de compter le nombre d'arêtes insérée, il y en aura toujours N-1, comme dans tout arbre couvrant"
   ]
  },
  {
   "cell_type": "markdown",
   "metadata": {},
   "source": [
    "Une fois Kruskal implémenté il faut l'intégrer à l'algorithme A\\*. Pour cela on va calculer l'heuristique à chaque creation de Noeud. Il faut ainsi l'insérer soit dans le constructeur soit dans la fonction `explore_node`. Attention à la calculer avant l'insertion dans la file de priorité. Il ne faut pas oublier non plus d'insérer la ligne suivante au début de la fonction main:\n",
    "````python\n",
    "Kruskal.kruskal = Kruskal.Kruskal(g)\n",
    "```\n",
    "### Execution"
   ]
  },
  {
   "cell_type": "code",
   "execution_count": 4,
   "metadata": {
    "collapsed": false
   },
   "outputs": [
    {
     "name": "stdout",
     "output_type": "stream",
     "text": [
      "running time 4.69 s\n",
      "visited nodes  15749\n",
      "created nodes  44321\n",
      "[0, 7, 8, 1, 9, 2, 5, 3, 6, 4, 0]\n",
      "cost: 135.0\n"
     ]
    }
   ],
   "source": [
    "main('N10.data','mst')"
   ]
  },
  {
   "cell_type": "code",
   "execution_count": 5,
   "metadata": {
    "collapsed": false
   },
   "outputs": [
    {
     "name": "stdout",
     "output_type": "stream",
     "text": [
      "running time 37.06 s\n",
      "visited nodes  111010\n",
      "created nodes  372273\n",
      "[0, 5, 7, 11, 3, 1, 8, 6, 10, 4, 2, 9, 0]\n",
      "cost: 1733.0\n"
     ]
    }
   ],
   "source": [
    "main('N12.data','mst')"
   ]
  },
  {
   "cell_type": "code",
   "execution_count": 6,
   "metadata": {
    "collapsed": false
   },
   "outputs": [
    {
     "name": "stdout",
     "output_type": "stream",
     "text": [
      "running time 16.19 s\n",
      "visited nodes  27383\n",
      "created nodes  140319\n",
      "[0, 12, 1, 14, 8, 4, 6, 2, 11, 13, 9, 7, 5, 3, 10, 0]\n",
      "cost: 291.0\n"
     ]
    }
   ],
   "source": [
    "main('N15.data','mst')"
   ]
  },
  {
   "cell_type": "markdown",
   "metadata": {},
   "source": [
    "On retrouve bien les même solutions que pour le premier algorithme. On observe aussi une forte réduction du nombre de noeuds visité, même si pour le premier algorithme la différence de temps n'est pas significative. Elle est en revanche divisée par 4 pour le deuxième exemple. L'algorithme arrice aussi à résoudre le troisième exemple. La quatrième exemple n'est pas solvable en temps raisonnable (plus de 3h). "
   ]
  },
  {
   "cell_type": "markdown",
   "metadata": {},
   "source": [
    "## Amélioration de l'heuristique\n",
    "Il est possible de constater que la construction actuelle du MST n'est pas optimale est que certains coût supplémentaires peuvent être ajoutées. En effet la solution cherchée contiendra au moins une arête de plus de le MST. Il est donc posssible de considérer le cout d'une arête supplémentaire dans l'heuristique. Il faut maintenant déterminer laquelle. Une solution simple serait de rajouter la plus petite arête, non contenue dans le MST, au coût.\n",
    "On peut raffiner cette solution en ajoutant le cout de la plus petite arête non contenue dans le MST qui ne touche pas la solution partielle.\n",
    "Si on considère la dernière ville $u$ ajoutée à la solution, et la ville $v$ la plus proche non visitée. Il y a alors deux cas possibles : soit le $u$ est une feuille de l'arbre, et pour compléter le tour il faudra ajouter une arête de poids au moins $c(e_{uv})$. Soit $u$ n'est pas une feuille, alors l'arête à ajouter pour completer le tour aura un coût au moin $c(e_{uv})$ par construction du MST. \n",
    "En allant plus loin on peut montrer qu'on peut ajouter le poids de l'arête suivante de la dernière arête ajoutée au MST. On ne peut ajouter une meilleure arête au MST sans perdre de garantie.\n",
    "Dans cette construction du MST une seule arête peut être ajoutée. Un raisonnement similaire permet de montrer que l'on peut ajouter l'arête qui part de la source et qui va vers la ville non visitée la plus proche, mais on ne peut les ajouter en même temps.\n",
    "\n",
    "**Remarque** : les arêtes qu'il est possible d'ajouter dépendent du MST choisi. \n",
    "\n",
    "\n",
    "L'ajout de la ville visité la plus proche de al source peut être implémenté de la façon suivante :\n",
    "\n",
    "```python\n",
    "def getMSTCost(self, sol, source):\n",
    "    mst_cost = 0\n",
    "    self.uf.reset()\n",
    "    u = source\n",
    "    n_edges = 0\n",
    "    for e in sol.visited:\n",
    "        self.uf.add(self.g.get_edge(e, u))\n",
    "        u = e\n",
    "        n_edges += 1\n",
    "    for e in self.g.get_sorted_edges():\n",
    "        if n_edges == self.g.N - 1:\n",
    "            mst_cost += np.min(self.g.costs[0, sol.not_visited])\n",
    "            return mst_cost\n",
    "        elif not self.uf.makes_cycle(e):\n",
    "            mst_cost += e.cost\n",
    "            self.uf.add(e)\n",
    "            n_edges += 1\n",
    "    mst_cost += np.min(self.g.costs[0, sol.not_visited])\n",
    "    return mst_cost\n",
    "```\n",
    "L'utilisation de la meilleure arête par :\n",
    "```python\n",
    "def getMSTCost(self, sol, source):\n",
    "    mst_cost = 0\n",
    "    self.uf.reset()\n",
    "    u = source\n",
    "    n_edges = 0\n",
    "    for e in sol.visited:\n",
    "        self.uf.add(self.g.get_edge(e, u))\n",
    "        u = e\n",
    "        n_edges += 1\n",
    "    for e in self.g.get_sorted_edges():\n",
    "        if n_edges == self.g.N - 1:\n",
    "            mst_cost += e.cost\n",
    "            return mst_cost\n",
    "        elif not self.uf.makes_cycle(e):\n",
    "            mst_cost += e.cost\n",
    "            self.uf.add(e)\n",
    "            n_edges += 1\n",
    "    mst_cost += np.min(self.g.costs[0, sol.not_visited])\n",
    "    return mst_cost\n",
    "```"
   ]
  },
  {
   "cell_type": "code",
   "execution_count": 7,
   "metadata": {
    "collapsed": false
   },
   "outputs": [
    {
     "name": "stdout",
     "output_type": "stream",
     "text": [
      "running time 5.05 s\n",
      "visited nodes  15749\n",
      "created nodes  44321\n",
      "[0, 7, 8, 1, 9, 2, 5, 3, 6, 4, 0]\n",
      "cost: 135.0\n"
     ]
    }
   ],
   "source": [
    "main('N10.data','mst_source')"
   ]
  },
  {
   "cell_type": "code",
   "execution_count": 8,
   "metadata": {
    "collapsed": false
   },
   "outputs": [
    {
     "name": "stdout",
     "output_type": "stream",
     "text": [
      "running time 44.57 s\n",
      "visited nodes  111010\n",
      "created nodes  372273\n",
      "[0, 5, 7, 11, 3, 1, 8, 6, 10, 4, 2, 9, 0]\n",
      "cost: 1733.0\n"
     ]
    }
   ],
   "source": [
    "main('N12.data','mst_source')"
   ]
  },
  {
   "cell_type": "code",
   "execution_count": 9,
   "metadata": {
    "collapsed": false
   },
   "outputs": [
    {
     "name": "stdout",
     "output_type": "stream",
     "text": [
      "running time 18.28 s\n",
      "visited nodes  27383\n",
      "created nodes  140319\n",
      "[0, 12, 1, 14, 8, 4, 6, 2, 11, 13, 9, 7, 5, 3, 10, 0]\n",
      "cost: 291.0\n"
     ]
    }
   ],
   "source": [
    "main('N15.data','mst_source')"
   ]
  },
  {
   "cell_type": "markdown",
   "metadata": {},
   "source": [
    "Malheuresement l'ajout de la ville non visitée la plus proche à la source ne permet pas d'améliorer de façon significative la preformance des algorithmes, le nombre d'états visité reste le même mais le temps de calcul augmente. "
   ]
  },
  {
   "cell_type": "code",
   "execution_count": 10,
   "metadata": {
    "collapsed": false
   },
   "outputs": [
    {
     "name": "stdout",
     "output_type": "stream",
     "text": [
      "running time 1.71 s\n",
      "visited nodes  6092\n",
      "created nodes  18279\n",
      "[0, 4, 6, 3, 5, 2, 9, 1, 8, 7, 0]\n",
      "cost: 135.0\n"
     ]
    }
   ],
   "source": [
    "main('N10.data','mst_best_edge')"
   ]
  },
  {
   "cell_type": "code",
   "execution_count": 11,
   "metadata": {
    "collapsed": false
   },
   "outputs": [
    {
     "name": "stdout",
     "output_type": "stream",
     "text": [
      "running time 9.35 s\n",
      "visited nodes  24445\n",
      "created nodes  87744\n",
      "[0, 9, 2, 4, 10, 6, 8, 1, 3, 11, 7, 5, 0]\n",
      "cost: 1733.0\n"
     ]
    }
   ],
   "source": [
    "main('N12.data','mst_best_edge')"
   ]
  },
  {
   "cell_type": "code",
   "execution_count": 12,
   "metadata": {
    "collapsed": false
   },
   "outputs": [
    {
     "name": "stdout",
     "output_type": "stream",
     "text": [
      "running time 0.20 s\n",
      "visited nodes  310\n",
      "created nodes  1706\n",
      "[0, 12, 1, 14, 8, 4, 6, 2, 11, 13, 9, 7, 5, 3, 10, 0]\n",
      "cost: 291.0\n"
     ]
    }
   ],
   "source": [
    "main('N15.data','mst_best_edge')"
   ]
  },
  {
   "cell_type": "markdown",
   "metadata": {},
   "source": [
    "On constate par contre que l'ajout de la meilleure arête a une influence significative sur le résultat. L'algorithme est beaucoup plus efficace divisant par plus de 4 le temps calcul. On optient toujours les bon résultat, ce qui est rassurant mais ne constitue pas une preuve non plus.  \n",
    "\n",
    "## Bonus \n",
    "* Une implémentation du MST plus efficace construit le MST uniquement sur les villes non visitée et sur la source et la dernière ville visitée. Cette heuristique est particulièrement efficace et permet de traiter en moins d'une heure le test N17. \n",
    "\n",
    "Le code correspondant à cette methode est le suivant :\n",
    "```python\n",
    "def getMSTCost(self, sol, source):\n",
    "    mst_cost = 0\n",
    "    self.uf.reset()\n",
    "    n_edges = 0\n",
    "    if len(sol.visited)>0:\n",
    "        for e in self.g.get_sorted_edges():\n",
    "            if n_edges == self.g.N - len(sol.visited):\n",
    "                return mst_cost\n",
    "            elif not (self.uf.makes_cycle(e) | (e.source in sol.visited[:-1]) | (e.destination in sol.visited[:-1])):\n",
    "                mst_cost += e.cost\n",
    "                self.uf.add(e)\n",
    "                n_edges += 1\n",
    "    return mst_cost\n",
    "```"
   ]
  },
  {
   "cell_type": "code",
   "execution_count": 13,
   "metadata": {
    "collapsed": false
   },
   "outputs": [
    {
     "name": "stdout",
     "output_type": "stream",
     "text": [
      "running time 0.99 s\n",
      "visited nodes  2178\n",
      "created nodes  7735\n",
      "[0, 4, 9, 2, 5, 3, 6, 1, 8, 7, 0]\n",
      "cost: 135.0\n"
     ]
    }
   ],
   "source": [
    "main('N10.data','best_mst')"
   ]
  },
  {
   "cell_type": "code",
   "execution_count": 14,
   "metadata": {
    "collapsed": false
   },
   "outputs": [
    {
     "name": "stdout",
     "output_type": "stream",
     "text": [
      "running time 0.84 s\n",
      "visited nodes  902\n",
      "created nodes  5105\n",
      "[0, 5, 7, 11, 3, 1, 8, 6, 10, 4, 2, 9, 0]\n",
      "cost: 1733.0\n"
     ]
    }
   ],
   "source": [
    "main('N12.data','best_mst')"
   ]
  },
  {
   "cell_type": "code",
   "execution_count": 15,
   "metadata": {
    "collapsed": false
   },
   "outputs": [
    {
     "name": "stdout",
     "output_type": "stream",
     "text": [
      "running time 0.09 s\n",
      "visited nodes  33\n",
      "created nodes  262\n",
      "[0, 12, 1, 14, 8, 4, 6, 2, 11, 13, 9, 7, 5, 3, 10, 0]\n",
      "cost: 291.0\n"
     ]
    }
   ],
   "source": [
    "main('N15.data','best_mst')"
   ]
  },
  {
   "cell_type": "code",
   "execution_count": 16,
   "metadata": {
    "collapsed": false
   },
   "outputs": [
    {
     "name": "stdout",
     "output_type": "stream",
     "text": [
      "running time 1684.82 s\n",
      "visited nodes  659399\n",
      "created nodes  5352457\n",
      "[0, 3, 12, 6, 7, 5, 16, 13, 14, 2, 10, 9, 1, 4, 8, 11, 15, 0]\n",
      "cost: 2085.0\n"
     ]
    }
   ],
   "source": [
    "main('N17.data','best_mst')"
   ]
  },
  {
   "cell_type": "markdown",
   "metadata": {},
   "source": [
    "On voit donc que cette implémentation est encore plus efficace que l'amélioration précedante en divisant encore par deux le temps de calcul. Le nombre de noeuds visités devenant très faible.\n",
    "* Il existe de nombreuses heuristiques qui approchent la solution optimale, la plus classique étant la solution de recherche locale à partir d'une solution quelconque. On peut aussi utiliser le MST pour construire une solution approchée 2-optimale. L'algorithme par colonie de fourmis permet aussi d'atteindre des bonnes solutions mais demande plus de puissance de calcul. "
   ]
  },
  {
   "cell_type": "markdown",
   "metadata": {},
   "source": [
    "### Résumé des performances des algorithmes\n",
    "\n",
    "|         | zero |               |  MST  |               |             | MST source |               |             | MST best edge |               |             | MST Bonus |               |             |\n",
    "|:-------:|:----:|:-------------:|:-----:|:-------------:|:-----------:|:----------:|:-------------:|:-----------:|:-------------:|:-------------:|:-----------:|:---------:|:-------------:|:-----------:|\n",
    "| dataset | temps | noeuds visités |  temps | noeuds visités | amélioration |    temps    | noeuds visités | amélioration |      temps     | noeuds visités | amélioration |    temps   | noeuds visités | amélioration |\n",
    "|   N10   | 5.16 |     41621     |  4.19 |     15749     |     18%     |    4.88    |     15749     |      5%     |      1.76     |      6092     |     65%     |    1.06   |      2178     |     79%     |\n",
    "|   N12   |  176 |    1164095    | 37.37 |     111010    |     78%     |    45.15   |     111010    |     74%     |      9.01     |     24445     |     95%     |    0.92   |      902     |     99.4%     |\n",
    "|   N15   |  NA  |       NA      | 16.59 |     27383     |      100%     |    18.47   |     27383     |     -11%    |      0.22     |      310      |    98.6%    |    0.04   |      33      |     99.7%     |\n",
    "|   N17   |  NA  |       NA      |   NA  |       NA      |      NA     |     NA     |       NA      |      NA     |    NA           |    NA    |      NA     |    1684.82       |     659399          |     100%        |"
   ]
  },
  {
   "cell_type": "code",
   "execution_count": null,
   "metadata": {
    "collapsed": true
   },
   "outputs": [],
   "source": []
  }
 ],
 "metadata": {
  "kernelspec": {
   "display_name": "Python 3",
   "language": "python",
   "name": "python3"
  },
  "language_info": {
   "codemirror_mode": {
    "name": "ipython",
    "version": 3
   },
   "file_extension": ".py",
   "mimetype": "text/x-python",
   "name": "python",
   "nbconvert_exporter": "python",
   "pygments_lexer": "ipython3",
   "version": "3.5.3"
  }
 },
 "nbformat": 4,
 "nbformat_minor": 0
}
